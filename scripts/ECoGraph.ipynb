{
 "cells": [
  {
   "cell_type": "markdown",
   "id": "0a5eb4c3-9e74-4dc8-9230-75651e51371a",
   "metadata": {},
   "source": [
    "# Data Loading and preprocessing"
   ]
  },
  {
   "cell_type": "code",
   "execution_count": 230,
   "id": "01b5a43d-bc6b-4c68-be32-7f078f0fc82f",
   "metadata": {
    "execution": {
     "iopub.execute_input": "2025-10-03T05:32:08.595561Z",
     "iopub.status.busy": "2025-10-03T05:32:08.595291Z",
     "iopub.status.idle": "2025-10-03T05:32:08.669980Z",
     "shell.execute_reply": "2025-10-03T05:32:08.669364Z",
     "shell.execute_reply.started": "2025-10-03T05:32:08.595540Z"
    }
   },
   "outputs": [
    {
     "name": "stdout",
     "output_type": "stream",
     "text": [
      "Carmen-ClinvarxMutation/\n",
      "tcga-kg/\n",
      "TCGA-CDR-SupplementalTableS1.xlsx\n",
      "TCGASubtype.20170308.tsv\n",
      "coad_metadata.csv\n",
      "coad_mut_data.csv\n",
      "coad_mutation_rates.csv\n",
      "coad_subtype_data.csv\n",
      "gene_0.02thr_HR_pval.csv\n",
      "human_canonical_pways.csv\n",
      "tcga_maf_filter_binary.Rds\n"
     ]
    }
   ],
   "source": [
    "import boto3\n",
    "from botocore import UNSIGNED\n",
    "from botocore.config import Config\n",
    "\n",
    "s3 = boto3.client('s3')\n",
    "bucket_name = \"cancer-knowledge-bucket\"\n",
    "\n",
    "response = s3.list_objects_v2(Bucket=bucket_name, Delimiter='/')\n",
    "\n",
    "if 'CommonPrefixes' in response:\n",
    "    for prefix in response['CommonPrefixes']:\n",
    "        print(prefix['Prefix'])\n",
    "\n",
    "if 'Contents' in response:\n",
    "    for obj in response['Contents']:\n",
    "        print(obj['Key'])\n",
    "else:\n",
    "    print(\"No objects found in the bucket.\")"
   ]
  },
  {
   "cell_type": "code",
   "execution_count": 118,
   "id": "0ac85747-1227-42e9-9983-e298298a5fed",
   "metadata": {
    "execution": {
     "iopub.execute_input": "2025-10-02T19:14:58.632937Z",
     "iopub.status.busy": "2025-10-02T19:14:58.632662Z",
     "iopub.status.idle": "2025-10-02T19:14:58.729652Z",
     "shell.execute_reply": "2025-10-02T19:14:58.729130Z",
     "shell.execute_reply.started": "2025-10-02T19:14:58.632917Z"
    }
   },
   "outputs": [
    {
     "name": "stdout",
     "output_type": "stream",
     "text": [
      "File gene_0.02thr_HR_pval.csv downloaded successfully.\n"
     ]
    }
   ],
   "source": [
    "file_key = \"gene_0.02thr_HR_pval.csv\"\n",
    "local_file_name = \"gene_0.02thr_HR_pval.csv\"\n",
    "s3.download_file(bucket_name, file_key, local_file_name)\n",
    "print(f\"File {local_file_name} downloaded successfully.\")"
   ]
  },
  {
   "cell_type": "code",
   "execution_count": 260,
   "id": "1e7bb410-018f-4506-bd29-37f1b83048df",
   "metadata": {
    "execution": {
     "iopub.execute_input": "2025-10-03T13:29:13.253609Z",
     "iopub.status.busy": "2025-10-03T13:29:13.253346Z",
     "iopub.status.idle": "2025-10-03T13:29:41.323368Z",
     "shell.execute_reply": "2025-10-03T13:29:41.322739Z",
     "shell.execute_reply.started": "2025-10-03T13:29:13.253589Z"
    }
   },
   "outputs": [
    {
     "name": "stdout",
     "output_type": "stream",
     "text": [
      "None <class 'pandas.core.frame.DataFrame'>\n",
      "MAF dataframe shape =  (10295, 21333)\n"
     ]
    }
   ],
   "source": [
    "import pyreadr\n",
    "import numpy as np\n",
    "import pandas as pd\n",
    "\n",
    "path_rds = \"tcga_maf_filter_binary.Rds\"\n",
    "result = pyreadr.read_r(path_rds)   \n",
    "for name, df_maf in result.items():\n",
    "    print(name, type(df_maf))\n",
    "print(\"MAF dataframe shape = \", df_maf.shape)\n"
   ]
  },
  {
   "cell_type": "code",
   "execution_count": 261,
   "id": "2da1d7cf-86b4-4d05-969e-29277ba85286",
   "metadata": {
    "execution": {
     "iopub.execute_input": "2025-10-03T13:29:41.324522Z",
     "iopub.status.busy": "2025-10-03T13:29:41.324302Z",
     "iopub.status.idle": "2025-10-03T13:29:45.399042Z",
     "shell.execute_reply": "2025-10-03T13:29:45.398509Z",
     "shell.execute_reply.started": "2025-10-03T13:29:41.324503Z"
    }
   },
   "outputs": [
    {
     "name": "stdout",
     "output_type": "stream",
     "text": [
      "['TCGA-CDR', 'TCGA-CDR_Notes', 'ExtraEndpoints', 'ExtraEndpoints_Notes', 'Table4_PHAssumptionTests', 'Table5_PHAssumptionTests', 'TSS_Info', 'Fig2EFG_AdditionalInfo']\n"
     ]
    },
    {
     "data": {
      "text/plain": [
       "'Shape of subtype df = '"
      ]
     },
     "metadata": {},
     "output_type": "display_data"
    },
    {
     "data": {
      "text/plain": [
       "(11160, 34)"
      ]
     },
     "metadata": {},
     "output_type": "display_data"
    },
    {
     "name": "stdout",
     "output_type": "stream",
     "text": [
      "Shape of subtype df =  (7734, 10)\n"
     ]
    }
   ],
   "source": [
    "path_cdr = \"TCGA-CDR-SupplementalTableS1.xlsx\"\n",
    "\n",
    "xls = pd.ExcelFile(path_cdr)           \n",
    "print(xls.sheet_names)\n",
    "\n",
    "df_subtype_cdr = pd.read_excel(path_cdr, sheet_name=\"TCGA-CDR\")  \n",
    "display(\"Shape of subtype df = \", df_subtype_cdr.shape)\n",
    "\n",
    "path_subtype = \"TCGASubtype.20170308.tsv\"\n",
    "df_subtype = pd.read_csv(path_subtype, sep='\\t')\n",
    "print(\"Shape of subtype df = \", df_subtype.shape)"
   ]
  },
  {
   "cell_type": "code",
   "execution_count": 262,
   "id": "270cea12-e6b0-4db1-8014-83d36985d363",
   "metadata": {
    "execution": {
     "iopub.execute_input": "2025-10-03T13:29:45.399802Z",
     "iopub.status.busy": "2025-10-03T13:29:45.399602Z",
     "iopub.status.idle": "2025-10-03T13:29:45.910924Z",
     "shell.execute_reply": "2025-10-03T13:29:45.910401Z",
     "shell.execute_reply.started": "2025-10-03T13:29:45.399784Z"
    }
   },
   "outputs": [
    {
     "name": "stdout",
     "output_type": "stream",
     "text": [
      "Shape of subtype df =  (3878, 2094)\n"
     ]
    }
   ],
   "source": [
    "path_pathways = \"human_canonical_pways.csv\"\n",
    "df_pathways = pd.read_csv(path_pathways)\n",
    "print(\"Shape of subtype df = \", df_pathways.shape)\n"
   ]
  },
  {
   "cell_type": "code",
   "execution_count": 263,
   "id": "3036a1d3-358f-4e29-aa75-89a3527d6a78",
   "metadata": {
    "execution": {
     "iopub.execute_input": "2025-10-03T13:29:45.912004Z",
     "iopub.status.busy": "2025-10-03T13:29:45.911791Z",
     "iopub.status.idle": "2025-10-03T13:29:45.925881Z",
     "shell.execute_reply": "2025-10-03T13:29:45.925384Z",
     "shell.execute_reply.started": "2025-10-03T13:29:45.911984Z"
    }
   },
   "outputs": [
    {
     "name": "stdout",
     "output_type": "stream",
     "text": [
      "Shape of hr df =  (6344, 4)\n"
     ]
    },
    {
     "data": {
      "text/html": [
       "<div>\n",
       "<style scoped>\n",
       "    .dataframe tbody tr th:only-of-type {\n",
       "        vertical-align: middle;\n",
       "    }\n",
       "\n",
       "    .dataframe tbody tr th {\n",
       "        vertical-align: top;\n",
       "    }\n",
       "\n",
       "    .dataframe thead th {\n",
       "        text-align: right;\n",
       "    }\n",
       "</style>\n",
       "<table border=\"1\" class=\"dataframe\">\n",
       "  <thead>\n",
       "    <tr style=\"text-align: right;\">\n",
       "      <th></th>\n",
       "      <th>Unnamed: 0</th>\n",
       "      <th>gene</th>\n",
       "      <th>exp_hr_coef</th>\n",
       "      <th>hr_pval</th>\n",
       "    </tr>\n",
       "  </thead>\n",
       "  <tbody>\n",
       "    <tr>\n",
       "      <th>0</th>\n",
       "      <td>1</td>\n",
       "      <td>TACC2</td>\n",
       "      <td>0.782922</td>\n",
       "      <td>0.831475</td>\n",
       "    </tr>\n",
       "    <tr>\n",
       "      <th>1</th>\n",
       "      <td>2</td>\n",
       "      <td>NAALAD2</td>\n",
       "      <td>0.365278</td>\n",
       "      <td>0.381420</td>\n",
       "    </tr>\n",
       "    <tr>\n",
       "      <th>2</th>\n",
       "      <td>3</td>\n",
       "      <td>BTBD11</td>\n",
       "      <td>0.177414</td>\n",
       "      <td>0.052284</td>\n",
       "    </tr>\n",
       "    <tr>\n",
       "      <th>3</th>\n",
       "      <td>4</td>\n",
       "      <td>SLC2A14</td>\n",
       "      <td>3.513196</td>\n",
       "      <td>0.283132</td>\n",
       "    </tr>\n",
       "    <tr>\n",
       "      <th>4</th>\n",
       "      <td>5</td>\n",
       "      <td>SLC2A3</td>\n",
       "      <td>0.023846</td>\n",
       "      <td>0.010734</td>\n",
       "    </tr>\n",
       "  </tbody>\n",
       "</table>\n",
       "</div>"
      ],
      "text/plain": [
       "   Unnamed: 0     gene  exp_hr_coef   hr_pval\n",
       "0           1    TACC2     0.782922  0.831475\n",
       "1           2  NAALAD2     0.365278  0.381420\n",
       "2           3   BTBD11     0.177414  0.052284\n",
       "3           4  SLC2A14     3.513196  0.283132\n",
       "4           5   SLC2A3     0.023846  0.010734"
      ]
     },
     "metadata": {},
     "output_type": "display_data"
    }
   ],
   "source": [
    "path_hr = \"gene_0.02thr_HR_pval.csv\"\n",
    "df_hr = pd.read_csv(path_hr)\n",
    "print(\"Shape of hr df = \", df_hr.shape)\n",
    "display(df_hr.head())"
   ]
  },
  {
   "cell_type": "code",
   "execution_count": 272,
   "id": "6d1af908-8761-4175-9365-a459212024dc",
   "metadata": {
    "execution": {
     "iopub.execute_input": "2025-10-03T13:35:34.964631Z",
     "iopub.status.busy": "2025-10-03T13:35:34.964366Z",
     "iopub.status.idle": "2025-10-03T13:35:34.983393Z",
     "shell.execute_reply": "2025-10-03T13:35:34.982837Z",
     "shell.execute_reply.started": "2025-10-03T13:35:34.964610Z"
    }
   },
   "outputs": [
    {
     "name": "stdout",
     "output_type": "stream",
     "text": [
      "Shape of mutrate df =  (21332, 2)\n"
     ]
    },
    {
     "data": {
      "text/html": [
       "<div>\n",
       "<style scoped>\n",
       "    .dataframe tbody tr th:only-of-type {\n",
       "        vertical-align: middle;\n",
       "    }\n",
       "\n",
       "    .dataframe tbody tr th {\n",
       "        vertical-align: top;\n",
       "    }\n",
       "\n",
       "    .dataframe thead th {\n",
       "        text-align: right;\n",
       "    }\n",
       "</style>\n",
       "<table border=\"1\" class=\"dataframe\">\n",
       "  <thead>\n",
       "    <tr style=\"text-align: right;\">\n",
       "      <th></th>\n",
       "      <th>Gene</th>\n",
       "      <th>Frequency</th>\n",
       "    </tr>\n",
       "  </thead>\n",
       "  <tbody>\n",
       "    <tr>\n",
       "      <th>0</th>\n",
       "      <td>TACC2</td>\n",
       "      <td>0.054455</td>\n",
       "    </tr>\n",
       "    <tr>\n",
       "      <th>1</th>\n",
       "      <td>PANX3</td>\n",
       "      <td>0.007426</td>\n",
       "    </tr>\n",
       "    <tr>\n",
       "      <th>2</th>\n",
       "      <td>SPI1</td>\n",
       "      <td>0.014851</td>\n",
       "    </tr>\n",
       "    <tr>\n",
       "      <th>3</th>\n",
       "      <td>NAALAD2</td>\n",
       "      <td>0.047030</td>\n",
       "    </tr>\n",
       "    <tr>\n",
       "      <th>4</th>\n",
       "      <td>MTERFD3</td>\n",
       "      <td>0.007426</td>\n",
       "    </tr>\n",
       "  </tbody>\n",
       "</table>\n",
       "</div>"
      ],
      "text/plain": [
       "      Gene  Frequency\n",
       "0    TACC2   0.054455\n",
       "1    PANX3   0.007426\n",
       "2     SPI1   0.014851\n",
       "3  NAALAD2   0.047030\n",
       "4  MTERFD3   0.007426"
      ]
     },
     "metadata": {},
     "output_type": "display_data"
    }
   ],
   "source": [
    "path_mutrate = \"coad_mutation_rates.csv\"\n",
    "df_mutrate = pd.read_csv(path_mutrate)\n",
    "print(\"Shape of mutrate df = \", df_mutrate.shape)\n",
    "display(df_mutrate.head())"
   ]
  },
  {
   "cell_type": "code",
   "execution_count": 264,
   "id": "a74aae6c-2ac6-4ac5-9fcb-d4ffa22ef7c6",
   "metadata": {
    "execution": {
     "iopub.execute_input": "2025-10-03T13:29:45.926531Z",
     "iopub.status.busy": "2025-10-03T13:29:45.926350Z",
     "iopub.status.idle": "2025-10-03T13:29:47.999334Z",
     "shell.execute_reply": "2025-10-03T13:29:47.998853Z",
     "shell.execute_reply.started": "2025-10-03T13:29:45.926515Z"
    }
   },
   "outputs": [],
   "source": [
    "df_metadata = pd.read_csv(\"coad_metadata.csv\")\n",
    "df_mutation = pd.read_csv(\"coad_mut_data.csv\")\n",
    "df_subtype = pd.read_csv(\"coad_subtype_data.csv\")"
   ]
  },
  {
   "cell_type": "code",
   "execution_count": 265,
   "id": "4c7911ce-b5c8-4aae-ad90-37451d844946",
   "metadata": {
    "execution": {
     "iopub.execute_input": "2025-10-03T13:29:48.000121Z",
     "iopub.status.busy": "2025-10-03T13:29:47.999922Z",
     "iopub.status.idle": "2025-10-03T13:29:48.003115Z",
     "shell.execute_reply": "2025-10-03T13:29:48.002627Z",
     "shell.execute_reply.started": "2025-10-03T13:29:48.000104Z"
    }
   },
   "outputs": [
    {
     "name": "stdout",
     "output_type": "stream",
     "text": [
      "(404, 34) (404, 21334) (341, 10)\n"
     ]
    }
   ],
   "source": [
    "print(df_metadata.shape, df_mutation.shape, df_subtype.shape)"
   ]
  },
  {
   "cell_type": "code",
   "execution_count": 267,
   "id": "02ad6ed9-dcf2-4d0f-9ec7-f8682df7bebd",
   "metadata": {
    "execution": {
     "iopub.execute_input": "2025-10-03T13:32:57.704417Z",
     "iopub.status.busy": "2025-10-03T13:32:57.704153Z",
     "iopub.status.idle": "2025-10-03T13:32:57.707439Z",
     "shell.execute_reply": "2025-10-03T13:32:57.706796Z",
     "shell.execute_reply.started": "2025-10-03T13:32:57.704398Z"
    }
   },
   "outputs": [],
   "source": [
    "import pandas as pd\n",
    "import numpy as np\n",
    "import re\n",
    "from pathlib import Path"
   ]
  },
  {
   "cell_type": "markdown",
   "id": "6d8cfb79-9915-413c-93b7-6037f4ab9d8a",
   "metadata": {},
   "source": [
    "### Some more preprocessing"
   ]
  },
  {
   "cell_type": "code",
   "execution_count": 268,
   "id": "0e836f43-101a-4901-8b7d-56b939e87d19",
   "metadata": {
    "execution": {
     "iopub.execute_input": "2025-10-03T13:32:58.444095Z",
     "iopub.status.busy": "2025-10-03T13:32:58.443833Z",
     "iopub.status.idle": "2025-10-03T13:32:58.449765Z",
     "shell.execute_reply": "2025-10-03T13:32:58.449184Z",
     "shell.execute_reply.started": "2025-10-03T13:32:58.444075Z"
    }
   },
   "outputs": [],
   "source": [
    "def normalize_mutation(df_mutation, barcode_col=\"Tumor_Sample_Barcode\"):\n",
    "    dm = df_mutation.copy()\n",
    "    dm = dm.rename(columns={barcode_col: \"sample_id\"})\n",
    "    dm[\"patient_barcode\"] = dm[\"sample_id\"].astype(str).str[:12]\n",
    "    return dm\n",
    "\n",
    "def normalize_metadata(df_metadata):\n",
    "    md = df_metadata.copy()\n",
    "    md = md.rename(columns={\"bcr_patient_barcode\":\"patient_barcode\", \"type\":\"cancer_type\"})\n",
    "    display(md.head())\n",
    "    return md\n",
    "\n",
    "def normalize_subtype(df_subtype, id_col=\"pan.samplesID\"):\n",
    "    ds = df_subtype.copy()\n",
    "    if id_col not in ds.columns:\n",
    "        raise ValueError(f\"df_subtype must have '{id_col}'\")\n",
    "    ds = ds.rename(columns={id_col: \"patient_barcode\"})\n",
    "    if \"cancer.type\" in ds.columns and \"tumor_type\" not in ds.columns:\n",
    "        ds = ds.rename(columns={\"cancer.type\": \"tumor_type\"})\n",
    "    return ds\n",
    "\n",
    "def gene_columns(dm):\n",
    "    non_gene = {\"sample_id\",\"patient_barcode\"}\n",
    "    valid = re.compile(r\"^[A-Za-z0-9._-]+$\")\n",
    "    return [c for c in dm.columns if c not in non_gene and valid.match(c)]\n",
    "\n",
    "def pick_subtype_column(ds, preferred_subtype_cols=None):\n",
    "    if preferred_subtype_cols is None:\n",
    "        preferred_subtype_cols = [\n",
    "            \"Subtype_Selected\",\n",
    "        ]\n",
    "    for c in preferred_subtype_cols:\n",
    "        if c in ds.columns:\n",
    "            return c\n",
    "    return None"
   ]
  },
  {
   "cell_type": "markdown",
   "id": "68d3b949-1fd0-4f24-80b9-a6cdf8ff3cb6",
   "metadata": {},
   "source": [
    "# Writing Vertices"
   ]
  },
  {
   "cell_type": "code",
   "execution_count": 273,
   "id": "07765307-f382-4865-b11b-30bbb86c6bb0",
   "metadata": {
    "execution": {
     "iopub.execute_input": "2025-10-03T13:40:02.039228Z",
     "iopub.status.busy": "2025-10-03T13:40:02.038977Z",
     "iopub.status.idle": "2025-10-03T13:40:02.054992Z",
     "shell.execute_reply": "2025-10-03T13:40:02.054426Z",
     "shell.execute_reply.started": "2025-10-03T13:40:02.039210Z"
    }
   },
   "outputs": [],
   "source": [
    "def write_vertices_sample(dm, md, out_dir=\"neptune_csv\"):\n",
    "    out = Path(out_dir)\n",
    "    out.mkdir(parents=True, exist_ok=True)\n",
    "\n",
    "    sex_map = (\n",
    "        md[[\"patient_barcode\",\"gender\"]]\n",
    "        .copy()\n",
    "        .assign(gender=lambda d: d[\"gender\"].astype(str).str.upper().str.strip())\n",
    "        .replace({\"gender\": {\"F\": \"FEMALE\", \"M\": \"MALE\"}})\n",
    "    )\n",
    "    sex_map[\"sex_norm\"] = sex_map[\"gender\"].where(sex_map[\"gender\"].isin([\"FEMALE\",\"MALE\"]), None)\n",
    "    sex_map = sex_map[[\"patient_barcode\",\"sex_norm\"]].drop_duplicates()\n",
    "\n",
    "    v = (\n",
    "        dm[[\"patient_barcode\"]]\n",
    "        .drop_duplicates()\n",
    "        .merge(sex_map, on=\"patient_barcode\", how=\"left\")\n",
    "    )\n",
    "\n",
    "    out_df = pd.DataFrame({\n",
    "        \"~id\": \"sample:\" + v[\"patient_barcode\"].astype(str),\n",
    "        \"~label\": \"Sample\",\n",
    "        \"patient_barcode:String\": v[\"patient_barcode\"].astype(str),\n",
    "        \"sex:String\": v[\"sex_norm\"].fillna(\"\"),   # empty string if unknown\n",
    "    }).drop_duplicates(\"~id\")\n",
    "\n",
    "    out_df.to_csv(out / \"vertices_sample.csv\", index=False)\n",
    "\n",
    "def write_vertices_age(md, out_dir = \"neptune_csv\", create_both = True):\n",
    "    out = Path(out_dir)\n",
    "    out.mkdir(parents=True, exist_ok=True)\n",
    "    \n",
    "    \n",
    "    ages = pd.to_numeric(md.get(\"age_at_initial_pathologic_diagnosis\"), errors=\"coerce\")\n",
    "    present = set()\n",
    "    if (ages <= 50).any(): present.add(\"<=50\")\n",
    "    if (ages  > 50).any(): present.add(\">50\")\n",
    "\n",
    "    if create_both:\n",
    "        present |= {\"<=50\", \">50\"}\n",
    "\n",
    "    if not present:\n",
    "        pd.DataFrame(columns=[\"~id\",\"~label\",\"age_bucket:String\"]).to_csv(out/\"vertices_age.csv\", index=False)\n",
    "        return\n",
    "\n",
    "    buckets = pd.Series(sorted(present, key=lambda x: (x != \"<=50\", x)))\n",
    "    v = pd.DataFrame({\n",
    "        \"~id\": \"age:\" + buckets,\n",
    "        \"~label\": \"Age\",\n",
    "        \"age_bucket:String\": buckets\n",
    "    })\n",
    "    v.to_csv(out/\"vertices_age.csv\", index=False)\n",
    "\n",
    "def write_vertices_gene(dm, out_dir = \"neptune_csv\"):\n",
    "    out = Path(out_dir)\n",
    "    out.mkdir(parents=True, exist_ok=True)\n",
    "    genes = pd.DataFrame({\"symbol\": sorted(set(gene_columns(dm)))})\n",
    "    v = pd.DataFrame({\n",
    "        \"~id\": \"gene:\" + genes[\"symbol\"].astype(str),\n",
    "        \"~label\": \"Gene\",\n",
    "        \"symbol:String\": genes[\"symbol\"].astype(str),\n",
    "    })\n",
    "    v.to_csv(out/\"vertices_gene.csv\", index=False)\n",
    "\n",
    "def write_vertices_gene_with_hr_and_freq(dm, df_hr, df_mutrate, out_dir=\"neptune_csv\"):\n",
    "    def _sanitize_hr(series):\n",
    "        x = pd.to_numeric(series, errors=\"coerce\")\n",
    "        mask = (x >= 0.0) & (x <= 1.0)\n",
    "        y = x.where(mask)  # out-of-range -> NaN\n",
    "        return y.map(lambda v: f\"{v:.6g}\" if pd.notna(v) else \"N/A\")\n",
    "\n",
    "    out = Path(out_dir)\n",
    "    out.mkdir(parents=True, exist_ok=True)\n",
    "\n",
    "    genes = pd.DataFrame({\"symbol\": sorted(set(gene_columns(dm)))})\n",
    "\n",
    "    hr = df_hr.copy()\n",
    "    gene_col_hr = \"gene\" if \"gene\" in hr.columns else (\"Gene\" if \"Gene\" in hr.columns else None)\n",
    "    if gene_col_hr is None:\n",
    "        raise ValueError(\"df_hr must have a 'gene' (or 'Gene') column\")\n",
    "    keep_hr = [gene_col_hr]\n",
    "    if \"exp_hr_coef\" in hr.columns: keep_hr.append(\"exp_hr_coef\")\n",
    "    if \"hr_pval\" in hr.columns: keep_hr.append(\"hr_pval\")\n",
    "    hr = hr[keep_hr].drop_duplicates()\n",
    "    hr = hr.rename(columns={gene_col_hr: \"symbol\", \"exp_hr_coef\": \"exp_hr_coeff\"})\n",
    "\n",
    "    mr = df_mutrate.copy()\n",
    "    gene_col_mr = \"gene\" if \"gene\" in mr.columns else (\"Gene\" if \"Gene\" in mr.columns else None)\n",
    "    if gene_col_mr is None:\n",
    "        raise ValueError(\"df_mutrate must have a 'gene' (or 'Gene') column\")\n",
    "    freq_col = \"Frequency\" if \"Frequency\" in mr.columns else (\"frequency\" if \"frequency\" in mr.columns else None)\n",
    "    if freq_col is None:\n",
    "        raise ValueError(\"df_mutrate must have a 'Frequency' (or 'frequency') column\")\n",
    "    mr = mr[[gene_col_mr, freq_col]].drop_duplicates().rename(columns={gene_col_mr: \"symbol\", freq_col: \"frequency\"})\n",
    "\n",
    "    merged = genes.merge(hr, on=\"symbol\", how=\"left\").merge(mr, on=\"symbol\", how=\"left\")\n",
    "    merged[\"exp_hr_coeff\"] = _sanitize_hr(merged.get(\"exp_hr_coeff\"))\n",
    "    merged[\"hr_pval\"]      = _sanitize_hr(merged.get(\"hr_pval\"))\n",
    "    merged[\"frequency\"]    = _sanitize_hr(merged.get(\"frequency\"))\n",
    "\n",
    "    v = pd.DataFrame({\n",
    "        \"~id\": \"gene:\" + merged[\"symbol\"].astype(str),\n",
    "        \"~label\": \"Gene\",\n",
    "        \"symbol:String\": merged[\"symbol\"].astype(str),\n",
    "        \"exp_hr_coeff:String\": merged[\"exp_hr_coeff\"],\n",
    "        \"hr_pval:String\": merged[\"hr_pval\"],\n",
    "        \"frequency:String\": merged[\"frequency\"],\n",
    "    })\n",
    "    v.to_csv(out / \"vertices_gene.csv\", index=False)\n",
    "\n",
    "def write_vertices_subtype(ds, out_dir = \"neptune_csv\"):\n",
    "    out = Path(out_dir) \n",
    "    out.mkdir(parents=True, exist_ok=True)\n",
    "\n",
    "    if \"Subtype_Selected\" not in ds.columns:\n",
    "        raise ValueError(\"Subtype_Selected column not found in subtype dataframe\")\n",
    "    vals = (\n",
    "        ds[\"Subtype_Selected\"]\n",
    "        .dropna()\n",
    "        .astype(str).str.strip()\n",
    "        .replace({\"\": np.nan})\n",
    "        .dropna()\n",
    "        .drop_duplicates()\n",
    "    )\n",
    "\n",
    "    if vals.empty:\n",
    "        pd.DataFrame(columns=[\"~id\",\"~label\"]).to_csv(out/\"vertices_subtype.csv\", index=False)\n",
    "        return\n",
    "\n",
    "    v = pd.DataFrame({\n",
    "        \"~id\": \"subtype:\" + vals,\n",
    "        \"~label\": \"Subtype\"\n",
    "    })\n",
    "    v.to_csv(out/\"vertices_subtype.csv\", index=False)\n",
    "\n",
    "def write_vertices_pathway(df_pathways, out_dir=\"neptune_csv\"):\n",
    "    out = Path(out_dir)\n",
    "    out.mkdir(parents=True, exist_ok=True)\n",
    "    pathway_cols = [c for c in df_pathways.columns if c != \"gene\"]\n",
    "    v = pd.DataFrame({\n",
    "        \"~id\": [\"pathway:\" + p for p in pathway_cols],\n",
    "        \"~label\": \"Pathway\",\n",
    "        \"name:String\": pathway_cols,\n",
    "    })\n",
    "    v.to_csv(out / \"vertices_pathway.csv\", index=False)"
   ]
  },
  {
   "cell_type": "markdown",
   "id": "02c64269-e969-4496-a5f5-198a54149c45",
   "metadata": {},
   "source": [
    "# Writing Edges"
   ]
  },
  {
   "cell_type": "code",
   "execution_count": 274,
   "id": "6ec1e0d7-cdd2-4a72-91eb-0749acb48511",
   "metadata": {
    "execution": {
     "iopub.execute_input": "2025-10-03T13:40:10.352914Z",
     "iopub.status.busy": "2025-10-03T13:40:10.352620Z",
     "iopub.status.idle": "2025-10-03T13:40:10.365446Z",
     "shell.execute_reply": "2025-10-03T13:40:10.364883Z",
     "shell.execute_reply.started": "2025-10-03T13:40:10.352892Z"
    }
   },
   "outputs": [],
   "source": [
    "def write_edges_has_age(dm, md, out_dir=\"neptune_csv\"):\n",
    "    out = Path(out_dir); out.mkdir(parents=True, exist_ok=True)\n",
    "\n",
    "    tmp = dm[[\"patient_barcode\"]].drop_duplicates().merge(\n",
    "        md[[\"patient_barcode\",\"age_at_initial_pathologic_diagnosis\"]],\n",
    "        on=\"patient_barcode\", how=\"left\"\n",
    "    )\n",
    "    age = pd.to_numeric(tmp[\"age_at_initial_pathologic_diagnosis\"], errors=\"coerce\")\n",
    "    bucket = np.where(age > 50, \">50\", \"<=50\")\n",
    "    tmp[\"age_bucket\"] = pd.Series(bucket)\n",
    "    tmp = tmp.dropna(subset=[\"age_at_initial_pathologic_diagnosis\"])  \n",
    "\n",
    "    \n",
    "    \n",
    "    e = pd.DataFrame({\n",
    "        \"~id\": \"e:sample:\" + tmp[\"patient_barcode\"].astype(str) + \":\" + tmp[\"patient_barcode\"].astype(str),\n",
    "        \"~from\": \"sample:\" + tmp[\"patient_barcode\"].astype(str),\n",
    "        \"~to\": \"age:\" + tmp[\"age_bucket\"].astype(str),\n",
    "        \"~label\": \"IS_OF_AGE\"\n",
    "    })\n",
    "    e.to_csv(out/\"edges_is_of_age.csv\", index=False)\n",
    "\n",
    "\n",
    "def write_edges_has_gene_streaming(dm, out_dir=\"neptune_csv\", batch_genes=100, split_every=2_000_000):\n",
    "    out = Path(out_dir)\n",
    "    out.mkdir(parents=True, exist_ok=True)\n",
    "    genes = gene_columns(dm)\n",
    "    part, written, fh = 0, 0, None\n",
    "\n",
    "    def _open():\n",
    "        nonlocal part, written, fh\n",
    "        if fh is not None: fh.close()\n",
    "        part += 1; written = 0\n",
    "        p = out / f\"edges_has_gene_part{part:03d}.csv\"\n",
    "        fh = open(p, \"w\", buffering=1<<20)\n",
    "        fh.write(\"~id,~from,~to,~label,value:Double\\n\")\n",
    "        return fh\n",
    "    fh = _open()\n",
    "\n",
    "    def present(s):\n",
    "        if s.dtype.kind in \"biufc\": return s.fillna(0) != 0\n",
    "        sv = s.astype(str).str.strip()\n",
    "        return (~s.isna()) & (~sv.isin([\"\",\"0\",\"NA\",\"NaN\",\"nan\"]))\n",
    "\n",
    "    base = dm[[\"patient_barcode\"]]\n",
    "    for i in range(0, len(genes), batch_genes):\n",
    "        cols = genes[i:i+batch_genes]\n",
    "        block = pd.concat([base, dm[cols]], axis=1)\n",
    "        for g in cols:\n",
    "            s = block[[\"patient_barcode\", g]].dropna()\n",
    "            m = present(s[g])\n",
    "            if not m.any(): continue\n",
    "            ss = s.loc[m]\n",
    "            vals = pd.to_numeric(ss[g], errors=\"coerce\")\n",
    "            for sid, val in zip(ss[\"patient_barcode\"].astype(str), vals):\n",
    "                if written >= split_every:\n",
    "                    fh = _open()\n",
    "                line = f\"e:sample:{sid}:{g},sample:{sid},gene:{g},HAS_GENE,\"\n",
    "                fh.write(line + (\"\" if pd.isna(val) else f\"{float(val)}\") + \"\\n\")\n",
    "                written += 1\n",
    "    fh.close()\n",
    "\n",
    "def write_edges_has_subtype(dm, ds, out_dir=\"neptune_csv\"):\n",
    "    out = Path(out_dir)\n",
    "    out.mkdir(parents=True, exist_ok=True)\n",
    "\n",
    "    subtype_col = \"Subtype_Selected\"\n",
    "    pts_with_samples = dm[\"patient_barcode\"].drop_duplicates()\n",
    "    ds_f = ds[ds[\"patient_barcode\"].isin(pts_with_samples)].copy()\n",
    "\n",
    "    submap = (\n",
    "        ds_f[[\"patient_barcode\", subtype_col]]\n",
    "        .dropna()\n",
    "        .astype({subtype_col: str})\n",
    "        .assign(**{subtype_col: lambda d: d[subtype_col].str.strip()})\n",
    "    )\n",
    "    submap = submap[submap[subtype_col] != \"\"].drop_duplicates()\n",
    "\n",
    "    if submap.empty:\n",
    "        pd.DataFrame(columns=[\"~id\",\"~from\",\"~to\",\"~label\"]).to_csv(out/\"edges_has_subtype.csv\", index=False)\n",
    "        return\n",
    "\n",
    "    samp = dm[[\"patient_barcode\"]].drop_duplicates()\n",
    "    j = samp.merge(submap, on=\"patient_barcode\", how=\"inner\")\n",
    "\n",
    "    e = pd.DataFrame({\n",
    "        \"~id\": \"e:sample:\" + j[\"patient_barcode\"].astype(str) + \":\"+j[subtype_col].astype(str),\n",
    "        \"~from\": \"sample:\" + j[\"patient_barcode\"].astype(str),\n",
    "        \"~to\": \"subtype:\" + j[subtype_col].astype(str),\n",
    "        \"~label\": \"HAS_SUBTYPE\"\n",
    "    })\n",
    "    e.to_csv(out/\"edges_has_subtype.csv\", index=False)\n",
    "\n",
    "\n",
    "def write_edges_gene_in_pathway(df_pathways, out_dir=\"neptune_csv\"):\n",
    "    out = Path(out_dir)\n",
    "    out.mkdir(parents=True, exist_ok=True)\n",
    "    pathway_cols = [c for c in df_pathways.columns if c != \"gene\"]\n",
    "    edge_path = out / \"edges_in_pathway.csv\"\n",
    "    with open(edge_path, \"w\") as fh:\n",
    "        fh.write(\"~id,~from,~to,~label\\n\")\n",
    "        for _, row in df_pathways.iterrows():\n",
    "            g = str(row[\"gene\"])\n",
    "            for p in pathway_cols:\n",
    "                val = row[p]\n",
    "                keep = False\n",
    "                try:\n",
    "                    keep = float(val) != 0\n",
    "                except Exception:\n",
    "                    keep = str(val).strip() not in (\"\", \"0\", \"NA\", \"NaN\", \"nan\")\n",
    "                if keep:\n",
    "                    fh.write(f\"e:gene:{g}:{p},gene:{g},pathway:{p},IN_PATHWAY\\n\")\n"
   ]
  },
  {
   "cell_type": "code",
   "execution_count": 275,
   "id": "4ca200a8-085d-420a-8ceb-5cc8681cb09c",
   "metadata": {
    "execution": {
     "iopub.execute_input": "2025-10-03T13:40:16.065229Z",
     "iopub.status.busy": "2025-10-03T13:40:16.064971Z",
     "iopub.status.idle": "2025-10-03T13:40:50.239350Z",
     "shell.execute_reply": "2025-10-03T13:40:50.238756Z",
     "shell.execute_reply.started": "2025-10-03T13:40:16.065208Z"
    }
   },
   "outputs": [
    {
     "data": {
      "text/html": [
       "<div>\n",
       "<style scoped>\n",
       "    .dataframe tbody tr th:only-of-type {\n",
       "        vertical-align: middle;\n",
       "    }\n",
       "\n",
       "    .dataframe tbody tr th {\n",
       "        vertical-align: top;\n",
       "    }\n",
       "\n",
       "    .dataframe thead th {\n",
       "        text-align: right;\n",
       "    }\n",
       "</style>\n",
       "<table border=\"1\" class=\"dataframe\">\n",
       "  <thead>\n",
       "    <tr style=\"text-align: right;\">\n",
       "      <th></th>\n",
       "      <th>...1</th>\n",
       "      <th>patient_barcode</th>\n",
       "      <th>cancer_type</th>\n",
       "      <th>age_at_initial_pathologic_diagnosis</th>\n",
       "      <th>gender</th>\n",
       "      <th>race</th>\n",
       "      <th>ajcc_pathologic_tumor_stage</th>\n",
       "      <th>clinical_stage</th>\n",
       "      <th>histological_type</th>\n",
       "      <th>histological_grade</th>\n",
       "      <th>...</th>\n",
       "      <th>residual_tumor</th>\n",
       "      <th>OS</th>\n",
       "      <th>OS.time</th>\n",
       "      <th>DSS</th>\n",
       "      <th>DSS.time</th>\n",
       "      <th>DFI</th>\n",
       "      <th>DFI.time</th>\n",
       "      <th>PFI</th>\n",
       "      <th>PFI.time</th>\n",
       "      <th>Redaction</th>\n",
       "    </tr>\n",
       "  </thead>\n",
       "  <tbody>\n",
       "    <tr>\n",
       "      <th>0</th>\n",
       "      <td>1954</td>\n",
       "      <td>TCGA-3L-AA1B</td>\n",
       "      <td>COAD</td>\n",
       "      <td>61</td>\n",
       "      <td>FEMALE</td>\n",
       "      <td>BLACK OR AFRICAN AMERICAN</td>\n",
       "      <td>Stage I</td>\n",
       "      <td>[Not Applicable]</td>\n",
       "      <td>Colon Adenocarcinoma</td>\n",
       "      <td>[Not Available]</td>\n",
       "      <td>...</td>\n",
       "      <td>NaN</td>\n",
       "      <td>0</td>\n",
       "      <td>475.0</td>\n",
       "      <td>0.0</td>\n",
       "      <td>475.0</td>\n",
       "      <td>0.0</td>\n",
       "      <td>475.0</td>\n",
       "      <td>0</td>\n",
       "      <td>475.0</td>\n",
       "      <td>NaN</td>\n",
       "    </tr>\n",
       "    <tr>\n",
       "      <th>1</th>\n",
       "      <td>1955</td>\n",
       "      <td>TCGA-4N-A93T</td>\n",
       "      <td>COAD</td>\n",
       "      <td>67</td>\n",
       "      <td>MALE</td>\n",
       "      <td>BLACK OR AFRICAN AMERICAN</td>\n",
       "      <td>Stage IIIB</td>\n",
       "      <td>[Not Applicable]</td>\n",
       "      <td>Colon Adenocarcinoma</td>\n",
       "      <td>[Not Available]</td>\n",
       "      <td>...</td>\n",
       "      <td>NaN</td>\n",
       "      <td>0</td>\n",
       "      <td>146.0</td>\n",
       "      <td>0.0</td>\n",
       "      <td>146.0</td>\n",
       "      <td>NaN</td>\n",
       "      <td>NaN</td>\n",
       "      <td>0</td>\n",
       "      <td>146.0</td>\n",
       "      <td>NaN</td>\n",
       "    </tr>\n",
       "    <tr>\n",
       "      <th>2</th>\n",
       "      <td>1956</td>\n",
       "      <td>TCGA-4T-AA8H</td>\n",
       "      <td>COAD</td>\n",
       "      <td>42</td>\n",
       "      <td>FEMALE</td>\n",
       "      <td>BLACK OR AFRICAN AMERICAN</td>\n",
       "      <td>Stage IIA</td>\n",
       "      <td>[Not Applicable]</td>\n",
       "      <td>Colon Mucinous Adenocarcinoma</td>\n",
       "      <td>[Not Available]</td>\n",
       "      <td>...</td>\n",
       "      <td>NaN</td>\n",
       "      <td>0</td>\n",
       "      <td>385.0</td>\n",
       "      <td>0.0</td>\n",
       "      <td>385.0</td>\n",
       "      <td>0.0</td>\n",
       "      <td>385.0</td>\n",
       "      <td>0</td>\n",
       "      <td>385.0</td>\n",
       "      <td>NaN</td>\n",
       "    </tr>\n",
       "    <tr>\n",
       "      <th>3</th>\n",
       "      <td>1957</td>\n",
       "      <td>TCGA-5M-AAT4</td>\n",
       "      <td>COAD</td>\n",
       "      <td>74</td>\n",
       "      <td>MALE</td>\n",
       "      <td>BLACK OR AFRICAN AMERICAN</td>\n",
       "      <td>Stage IV</td>\n",
       "      <td>[Not Applicable]</td>\n",
       "      <td>Colon Adenocarcinoma</td>\n",
       "      <td>[Not Available]</td>\n",
       "      <td>...</td>\n",
       "      <td>NaN</td>\n",
       "      <td>1</td>\n",
       "      <td>49.0</td>\n",
       "      <td>1.0</td>\n",
       "      <td>49.0</td>\n",
       "      <td>NaN</td>\n",
       "      <td>NaN</td>\n",
       "      <td>1</td>\n",
       "      <td>49.0</td>\n",
       "      <td>NaN</td>\n",
       "    </tr>\n",
       "    <tr>\n",
       "      <th>4</th>\n",
       "      <td>1958</td>\n",
       "      <td>TCGA-5M-AAT6</td>\n",
       "      <td>COAD</td>\n",
       "      <td>40</td>\n",
       "      <td>FEMALE</td>\n",
       "      <td>BLACK OR AFRICAN AMERICAN</td>\n",
       "      <td>Stage IV</td>\n",
       "      <td>[Not Applicable]</td>\n",
       "      <td>Colon Adenocarcinoma</td>\n",
       "      <td>[Not Available]</td>\n",
       "      <td>...</td>\n",
       "      <td>NaN</td>\n",
       "      <td>1</td>\n",
       "      <td>290.0</td>\n",
       "      <td>1.0</td>\n",
       "      <td>290.0</td>\n",
       "      <td>NaN</td>\n",
       "      <td>NaN</td>\n",
       "      <td>1</td>\n",
       "      <td>219.0</td>\n",
       "      <td>NaN</td>\n",
       "    </tr>\n",
       "  </tbody>\n",
       "</table>\n",
       "<p>5 rows × 34 columns</p>\n",
       "</div>"
      ],
      "text/plain": [
       "   ...1 patient_barcode cancer_type  age_at_initial_pathologic_diagnosis  \\\n",
       "0  1954    TCGA-3L-AA1B        COAD                                   61   \n",
       "1  1955    TCGA-4N-A93T        COAD                                   67   \n",
       "2  1956    TCGA-4T-AA8H        COAD                                   42   \n",
       "3  1957    TCGA-5M-AAT4        COAD                                   74   \n",
       "4  1958    TCGA-5M-AAT6        COAD                                   40   \n",
       "\n",
       "   gender                       race ajcc_pathologic_tumor_stage  \\\n",
       "0  FEMALE  BLACK OR AFRICAN AMERICAN                     Stage I   \n",
       "1    MALE  BLACK OR AFRICAN AMERICAN                  Stage IIIB   \n",
       "2  FEMALE  BLACK OR AFRICAN AMERICAN                   Stage IIA   \n",
       "3    MALE  BLACK OR AFRICAN AMERICAN                    Stage IV   \n",
       "4  FEMALE  BLACK OR AFRICAN AMERICAN                    Stage IV   \n",
       "\n",
       "     clinical_stage              histological_type histological_grade  ...  \\\n",
       "0  [Not Applicable]           Colon Adenocarcinoma    [Not Available]  ...   \n",
       "1  [Not Applicable]           Colon Adenocarcinoma    [Not Available]  ...   \n",
       "2  [Not Applicable]  Colon Mucinous Adenocarcinoma    [Not Available]  ...   \n",
       "3  [Not Applicable]           Colon Adenocarcinoma    [Not Available]  ...   \n",
       "4  [Not Applicable]           Colon Adenocarcinoma    [Not Available]  ...   \n",
       "\n",
       "   residual_tumor OS  OS.time  DSS DSS.time  DFI  DFI.time PFI PFI.time  \\\n",
       "0             NaN  0    475.0  0.0    475.0  0.0     475.0   0    475.0   \n",
       "1             NaN  0    146.0  0.0    146.0  NaN       NaN   0    146.0   \n",
       "2             NaN  0    385.0  0.0    385.0  0.0     385.0   0    385.0   \n",
       "3             NaN  1     49.0  1.0     49.0  NaN       NaN   1     49.0   \n",
       "4             NaN  1    290.0  1.0    290.0  NaN       NaN   1    219.0   \n",
       "\n",
       "   Redaction  \n",
       "0        NaN  \n",
       "1        NaN  \n",
       "2        NaN  \n",
       "3        NaN  \n",
       "4        NaN  \n",
       "\n",
       "[5 rows x 34 columns]"
      ]
     },
     "metadata": {},
     "output_type": "display_data"
    },
    {
     "name": "stdout",
     "output_type": "stream",
     "text": [
      "Writing vertices ...\n",
      "vertices done\n",
      "Writing edges ...\n",
      "edges done\n",
      "Neptune CSVs ready in ./neptune_csv\n"
     ]
    }
   ],
   "source": [
    "dm = normalize_mutation(df_mutation)\n",
    "md = normalize_metadata(df_metadata)\n",
    "ds = normalize_subtype(df_subtype)\n",
    "\n",
    "print(\"Writing vertices ...\")\n",
    "write_vertices_sample(dm, md, out_dir=\"neptune_csv\")\n",
    "write_vertices_age(md, out_dir=\"neptune_csv\", create_both=True)\n",
    "write_vertices_gene_with_hr(dm, df_hr, out_dir=\"neptune_csv\")\n",
    "write_vertices_subtype(ds, out_dir=\"neptune_csv\")\n",
    "write_vertices_pathway(df_pathways, out_dir=\"neptune_csv\")\n",
    "print(\"vertices done\")\n",
    "\n",
    "print(\"Writing edges ...\")\n",
    "write_edges_has_age(dm, md, out_dir=\"neptune_csv\")\n",
    "write_edges_has_gene_streaming(dm, out_dir=\"neptune_csv\", batch_genes=100, split_every=2_000_000)\n",
    "write_edges_has_subtype(dm, ds, out_dir=\"neptune_csv\")\n",
    "write_edges_gene_in_pathway(df_pathways, out_dir=\"neptune_csv\")\n",
    "print(\"edges done\")\n",
    "print(\"Neptune CSVs ready in ./neptune_csv\")"
   ]
  },
  {
   "cell_type": "markdown",
   "id": "df0e0721-3b11-44ec-8a87-3227721f21ac",
   "metadata": {
    "execution": {
     "iopub.execute_input": "2025-10-03T05:26:04.223696Z",
     "iopub.status.busy": "2025-10-03T05:26:04.223400Z",
     "iopub.status.idle": "2025-10-03T05:26:04.226685Z",
     "shell.execute_reply": "2025-10-03T05:26:04.226077Z",
     "shell.execute_reply.started": "2025-10-03T05:26:04.223673Z"
    }
   },
   "source": [
    "# Uploading all local files to Amazon S3"
   ]
  },
  {
   "cell_type": "code",
   "execution_count": 278,
   "id": "e6394078-5f75-433e-aebe-93dfd1d8b2e9",
   "metadata": {
    "execution": {
     "iopub.execute_input": "2025-10-03T14:06:51.242056Z",
     "iopub.status.busy": "2025-10-03T14:06:51.241785Z",
     "iopub.status.idle": "2025-10-03T14:06:52.606292Z",
     "shell.execute_reply": "2025-10-03T14:06:52.605538Z",
     "shell.execute_reply.started": "2025-10-03T14:06:51.242034Z"
    }
   },
   "outputs": [
    {
     "name": "stdout",
     "output_type": "stream",
     "text": [
      "upload: neptune_csv/.ipynb_checkpoints/edges_has_subtype-checkpoint.csv to s3://cancer-knowledge-bucket/tcga-kg/.ipynb_checkpoints/edges_has_subtype-checkpoint.csv\n",
      "upload: neptune_csv/.ipynb_checkpoints/vertices_age-checkpoint.csv to s3://cancer-knowledge-bucket/tcga-kg/.ipynb_checkpoints/vertices_age-checkpoint.csv\n",
      "upload: neptune_csv/.ipynb_checkpoints/edges_is_of_age-checkpoint.csv to s3://cancer-knowledge-bucket/tcga-kg/.ipynb_checkpoints/edges_is_of_age-checkpoint.csv\n",
      "upload: neptune_csv/.ipynb_checkpoints/vertices_subtype-checkpoint.csv to s3://cancer-knowledge-bucket/tcga-kg/.ipynb_checkpoints/vertices_subtype-checkpoint.csv\n",
      "upload: neptune_csv/.ipynb_checkpoints/vertices_sample-checkpoint.csv to s3://cancer-knowledge-bucket/tcga-kg/.ipynb_checkpoints/vertices_sample-checkpoint.csv\n",
      "upload: neptune_csv/edges_has_subtype.csv to s3://cancer-knowledge-bucket/tcga-kg/edges_has_subtype.csv\n",
      "upload: neptune_csv/.ipynb_checkpoints/vertices_pathway-checkpoint.csv to s3://cancer-knowledge-bucket/tcga-kg/.ipynb_checkpoints/vertices_pathway-checkpoint.csv\n",
      "upload: neptune_csv/.ipynb_checkpoints/vertices_gene-checkpoint.csv to s3://cancer-knowledge-bucket/tcga-kg/.ipynb_checkpoints/vertices_gene-checkpoint.csv\n",
      "upload: neptune_csv/.ipynb_checkpoints/edges_in_pathway-checkpoint.csv to s3://cancer-knowledge-bucket/tcga-kg/.ipynb_checkpoints/edges_in_pathway-checkpoint.csv\n",
      "upload: neptune_csv/vertices_age.csv to s3://cancer-knowledge-bucket/tcga-kg/vertices_age.csv\n",
      "upload: neptune_csv/vertices_pathway.csv to s3://cancer-knowledge-bucket/tcga-kg/vertices_pathway.csv\n",
      "upload: neptune_csv/edges_is_of_age.csv to s3://cancer-knowledge-bucket/tcga-kg/edges_is_of_age.csv\n",
      "upload: neptune_csv/vertices_sample.csv to s3://cancer-knowledge-bucket/tcga-kg/vertices_sample.csv\n",
      "upload: neptune_csv/edges_in_pathway.csv to s3://cancer-knowledge-bucket/tcga-kg/edges_in_pathway.csv\n",
      "upload: neptune_csv/vertices_subtype.csv to s3://cancer-knowledge-bucket/tcga-kg/vertices_subtype.csv\n",
      "upload: neptune_csv/vertices_gene.csv to s3://cancer-knowledge-bucket/tcga-kg/vertices_gene.csv\n",
      "upload: neptune_csv/edges_has_gene_part001.csv to s3://cancer-knowledge-bucket/tcga-kg/edges_has_gene_part001.csv\n",
      "upload: neptune_csv/.ipynb_checkpoints/edges_has_gene_part001-checkpoint.csv to s3://cancer-knowledge-bucket/tcga-kg/.ipynb_checkpoints/edges_has_gene_part001-checkpoint.csv\n"
     ]
    }
   ],
   "source": [
    "! aws s3 cp neptune_csv/ s3://cancer-knowledge-bucket/tcga-kg/ --recursive"
   ]
  },
  {
   "cell_type": "markdown",
   "id": "abd1e690-a0a6-4fc5-838e-05b6a7b44eb0",
   "metadata": {
    "execution": {
     "iopub.execute_input": "2025-10-03T05:26:56.405115Z",
     "iopub.status.busy": "2025-10-03T05:26:56.404819Z",
     "iopub.status.idle": "2025-10-03T05:26:56.408027Z",
     "shell.execute_reply": "2025-10-03T05:26:56.407453Z",
     "shell.execute_reply.started": "2025-10-03T05:26:56.405085Z"
    }
   },
   "source": [
    "# Commands for Neptune"
   ]
  },
  {
   "cell_type": "code",
   "execution_count": 255,
   "id": "0bf3bd63-9477-4c92-a51e-f892b5c84f94",
   "metadata": {
    "execution": {
     "iopub.execute_input": "2025-10-03T06:34:44.950262Z",
     "iopub.status.busy": "2025-10-03T06:34:44.950045Z",
     "iopub.status.idle": "2025-10-03T06:34:44.952852Z",
     "shell.execute_reply": "2025-10-03T06:34:44.952182Z",
     "shell.execute_reply.started": "2025-10-03T06:34:44.950242Z"
    }
   },
   "outputs": [],
   "source": [
    "# no need to run this\n",
    "import aws_cdk.aws_neptune_alpha as neptune"
   ]
  },
  {
   "cell_type": "markdown",
   "id": "9f7adb06-88b6-4f39-ac08-d61d70f05152",
   "metadata": {
    "execution": {
     "iopub.execute_input": "2025-10-03T05:27:32.896844Z",
     "iopub.status.busy": "2025-10-03T05:27:32.896565Z",
     "iopub.status.idle": "2025-10-03T05:27:32.899433Z",
     "shell.execute_reply": "2025-10-03T05:27:32.898889Z",
     "shell.execute_reply.started": "2025-10-03T05:27:32.896824Z"
    }
   },
   "source": [
    "### Uploading to Neptune"
   ]
  },
  {
   "cell_type": "code",
   "execution_count": null,
   "id": "b8286efa-42ac-420b-81a3-5c2cbe5a2baa",
   "metadata": {},
   "outputs": [],
   "source": [
    "curl -X POST \\\n",
    "      -H 'Content-Type: application/json' \\\n",
    "      https://db-neptune-1-instance-1.crc8kg8g0zaj.us-east-1.neptune.amazonaws.com:8182/loader -d '\n",
    "      {\n",
    "        \"source\" : \"s3://cancer-knowledge-bucket/tcga-kg/\",\n",
    "        \"format\" : \"csv\",\n",
    "        \"iamRoleArn\" : \"arn:aws:iam::767398038972:role/NeptuneLoadFromS3\",\n",
    "        \"region\" : \"us-east-1\",\n",
    "        \"failOnError\" : \"FALSE\",\n",
    "        \"parallelism\" : \"MEDIUM\",\n",
    "        \"queueRequest\" : \"TRUE\"\n",
    "      }'"
   ]
  },
  {
   "cell_type": "markdown",
   "id": "3b0f55d8-ba42-4a67-89d2-5bd07965fd4d",
   "metadata": {},
   "source": [
    "### Query Neptune"
   ]
  },
  {
   "cell_type": "code",
   "execution_count": null,
   "id": "0bb34afc-352c-4801-80da-687f722ddd0c",
   "metadata": {},
   "outputs": [],
   "source": [
    "curl -X POST \\\n",
    "  -H 'Content-Type: application/json' \\\n",
    "  -d '{\"gremlin\": \"g.V().limit(10)\"}' \\   \n",
    "  https://db-neptune-1.cluster-crc8kg8g0zaj.us-east-1.neptune.amazonaws.com:8182/gremlin"
   ]
  },
  {
   "cell_type": "code",
   "execution_count": null,
   "id": "45dd10a5-d345-4756-9cc0-a71fb4a31d2b",
   "metadata": {},
   "outputs": [],
   "source": [
    "# QUERY: HOW MANY PATHWAY NODES ARE THERE?\n",
    "curl -s -X POST \\\n",
    "   -H 'Content-Type: application/opencypher' \\\n",
    "   --data-binary 'MATCH (p:Pathway) RETURN count(p) AS n;' \\\n",
    "   https://db-neptune-1.cluster-crc8kg8g0zaj.us-east-1.neptune.amazonaws.com:8182/openCypher | python -m json.tool"
   ]
  },
  {
   "cell_type": "code",
   "execution_count": null,
   "id": "761d0151-79a3-4216-9452-99bae41baa78",
   "metadata": {},
   "outputs": [],
   "source": [
    "# QUERY: HOW MANY NODES OF EACH TYPE ARE THERE? \n",
    "curl -s -X POST \\\n",
    "  -H 'Content-Type: application/opencypher' \\\n",
    "  --data-binary 'MATCH (n) UNWIND labels(n) AS lbl RETURN lbl, count(*) AS n ORDER BY n DESC;' \\\n",
    "  https://db-neptune-1.cluster-crc8kg8g0zaj.us-east-1.neptune.amazonaws.com:8182/openCypher | python -m json.tool"
   ]
  },
  {
   "cell_type": "markdown",
   "id": "533d729b-3117-4004-a0e7-454e276823ce",
   "metadata": {
    "execution": {
     "iopub.execute_input": "2025-10-03T12:56:01.821345Z",
     "iopub.status.busy": "2025-10-03T12:56:01.821066Z",
     "iopub.status.idle": "2025-10-03T12:56:01.824329Z",
     "shell.execute_reply": "2025-10-03T12:56:01.823681Z",
     "shell.execute_reply.started": "2025-10-03T12:56:01.821323Z"
    }
   },
   "source": [
    "### Delete database from neptune"
   ]
  },
  {
   "cell_type": "code",
   "execution_count": null,
   "id": "fcf2265e-fc39-4cf8-b056-faa54d4913f4",
   "metadata": {},
   "outputs": [],
   "source": [
    "curl -X POST \\\n",
    "  -H 'Content-Type: application/json' \\\n",
    "      https://db-neptune-1-instance-1.crc8kg8g0zaj.us-east-1.neptune.amazonaws.com:8182/system \\\n",
    "  -d '{ \"action\" : \"initiateDatabaseReset\" }'"
   ]
  },
  {
   "cell_type": "code",
   "execution_count": null,
   "id": "6e88e2a3-e27e-40b1-bd89-44e294724e6e",
   "metadata": {},
   "outputs": [],
   "source": [
    "curl -X POST \\\n",
    "  -H 'Content-Type: application/json' \\\n",
    "      https://db-neptune-1-instance-1.crc8kg8g0zaj.us-east-1.neptune.amazonaws.com:8182/system \\\n",
    "  -d '{\n",
    "        \"action\" : \"performDatabaseReset\",\n",
    "        \"token\" : \"32ccd53a-9cea-6cab-c85a-564c7a51baa2\"\n",
    "      }'"
   ]
  },
  {
   "cell_type": "code",
   "execution_count": null,
   "id": "66cca511-59c9-482c-af2c-a5a7b387b3c3",
   "metadata": {},
   "outputs": [],
   "source": [
    "curl -X POST \\\n",
    "       -H 'Content-Type: application/json' \\\n",
    "       https://db-neptune-1-instance-1.crc8kg8g0zaj.us-east-1.neptune.amazonaws.com:8182/loader -d '\n",
    "       {\n",
    "         \"source\" : \"s3://cancer-knowledge-bucket/tcga-kg/\",\n",
    "         \"format\" : \"csv\",\n",
    "         \"iamRoleArn\" : \"arn:aws:iam::767398038972:role/NeptuneLoadFromS3\",\n",
    "         \"region\" : \"us-east-1\",\n",
    "         \"failOnError\" : \"FALSE\",\n",
    "         \"parallelism\" : \"MEDIUM\",\n",
    "         \"queueRequest\" : \"TRUE\"\n",
    "       }'"
   ]
  }
 ],
 "metadata": {
  "kernelspec": {
   "display_name": "Python 3 (ipykernel)",
   "language": "python",
   "name": "python3"
  },
  "language_info": {
   "codemirror_mode": {
    "name": "ipython",
    "version": 3
   },
   "file_extension": ".py",
   "mimetype": "text/x-python",
   "name": "python",
   "nbconvert_exporter": "python",
   "pygments_lexer": "ipython3",
   "version": "3.12.9"
  }
 },
 "nbformat": 4,
 "nbformat_minor": 5
}
